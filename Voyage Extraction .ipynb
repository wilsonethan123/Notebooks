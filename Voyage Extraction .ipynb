{
 "cells": [
  {
   "cell_type": "code",
   "execution_count": 1,
   "id": "a2d2a719",
   "metadata": {},
   "outputs": [],
   "source": [
    "import pandas as pd\n",
    "import os \n",
    "import glob"
   ]
  },
  {
   "cell_type": "code",
   "execution_count": 2,
   "id": "b1852e4b",
   "metadata": {},
   "outputs": [
    {
     "name": "stdout",
     "output_type": "stream",
     "text": [
      "Select network driveZ\n",
      "Z\n"
     ]
    }
   ],
   "source": [
    "net = input(\"Select network drive\")\n",
    "print(net)"
   ]
  },
  {
   "cell_type": "code",
   "execution_count": 13,
   "id": "3834774c",
   "metadata": {},
   "outputs": [
    {
     "name": "stdout",
     "output_type": "stream",
     "text": [
      "Enter Campaign CodeHEP2317EX\n",
      "HEP2317EX\n"
     ]
    }
   ],
   "source": [
    "campaign = input(\"Enter Campaign Code\")\n",
    "print(campaign)"
   ]
  },
  {
   "cell_type": "code",
   "execution_count": 14,
   "id": "605372e0",
   "metadata": {},
   "outputs": [
    {
     "name": "stdout",
     "output_type": "stream",
     "text": [
      "Select Working WeekWeek 17\n",
      "Week 17\n"
     ]
    }
   ],
   "source": [
    "week = input(\"Select Working Week\")\n",
    "print(week)"
   ]
  },
  {
   "cell_type": "code",
   "execution_count": 15,
   "id": "9f8fb175",
   "metadata": {},
   "outputs": [
    {
     "name": "stdout",
     "output_type": "stream",
     "text": [
      "Z:\\CVS Files_WebEmailOnline\\Email\\CSVs\\Week 17\\HEP2317EX\n"
     ]
    }
   ],
   "source": [
    "path = net + \":/CVS Files_WebEmailOnline/Email/CSVs/\" + week  + \"/\" + campaign \n",
    "\n",
    "path = os.path.normpath(path)\n",
    "print(path)"
   ]
  },
  {
   "cell_type": "code",
   "execution_count": 16,
   "id": "19e33c8e",
   "metadata": {},
   "outputs": [],
   "source": [
    "os.chdir(path)"
   ]
  },
  {
   "cell_type": "code",
   "execution_count": 17,
   "id": "09c18e3a",
   "metadata": {},
   "outputs": [
    {
     "data": {
      "text/plain": [
       "['multi_HEP2317EX_1.csv',\n",
       " 'multi_HEP2317EX_2.csv',\n",
       " 'multi_HEP2317EX_3.csv',\n",
       " 'multi_HEP2317EX_4.csv',\n",
       " 'multi_HEP2317EX_5.csv',\n",
       " 'multi_HEP2317EX_6.csv',\n",
       " 'multi_HEP2317EX_7.csv']"
      ]
     },
     "execution_count": 17,
     "metadata": {},
     "output_type": "execute_result"
    }
   ],
   "source": [
    "filenames = glob.glob(\"cmpgn_*.csv\")\n",
    "filenames\n",
    "\n",
    "filenames2 = glob.glob(\"multi_*.csv\")\n",
    "filenames2\n"
   ]
  },
  {
   "cell_type": "code",
   "execution_count": 18,
   "id": "2e3ee505",
   "metadata": {},
   "outputs": [],
   "source": [
    "dataframes = [pd.read_csv(f) for f in filenames]\n",
    "\n",
    "dataframes2 = [pd.read_csv(f) for f in filenames2]\n",
    "\n"
   ]
  },
  {
   "cell_type": "code",
   "execution_count": 19,
   "id": "deedc268",
   "metadata": {},
   "outputs": [],
   "source": [
    "df2 = pd.concat(dataframes)\n",
    "\n",
    "df3 = pd.concat(dataframes2)\n",
    "\n",
    "df4 = pd.concat([df2,df3])\n",
    "\n"
   ]
  },
  {
   "cell_type": "code",
   "execution_count": 20,
   "id": "f5d7ef81",
   "metadata": {},
   "outputs": [],
   "source": [
    "df4 = pd.DataFrame(df4)\n",
    "\n",
    "df4 = df4['Voyage Code']\n",
    "\n",
    "\n",
    "df4 = pd.DataFrame(df4)\n"
   ]
  },
  {
   "cell_type": "code",
   "execution_count": 21,
   "id": "68d8ffec",
   "metadata": {},
   "outputs": [],
   "source": [
    "df4[\"Voyage Code\"]=df4[\"Voyage Code\"].str.split(\", \")\n",
    "df4=df4.explode(\"Voyage Code\").reset_index(drop=True)\n"
   ]
  },
  {
   "cell_type": "code",
   "execution_count": 22,
   "id": "84df3469",
   "metadata": {},
   "outputs": [
    {
     "name": "stdout",
     "output_type": "stream",
     "text": [
      "('K422', 'N320', 'N424', 'K389', 'K372', 'K389A', 'K387A', 'K413', 'K414', 'K410A', 'W322', 'W368', 'W418', 'W375', 'W376', 'W379', 'W380', 'W410', 'W411', 'W414', 'W415', 'W419', 'W423', 'W371', 'W372', 'W425', 'W422', 'W319', 'W320', 'W368A', 'W371A', 'W372A', 'W375A', 'W376A', 'W379A', 'W380A', 'W410A', 'W411A', 'W414A', 'W415A', 'W418A', 'W419A', 'W422A', 'W423A', 'W319A', 'W320A', 'N377', 'N410', 'N318', 'N373', 'N378', 'N411', 'N414', 'N415', 'N418', 'N419', 'N422', 'N372', 'N368', 'N318A', 'N368A', 'N422A', 'O414', 'O376', 'O379', 'X417', 'O318', 'O415', 'O418', 'O376A', 'O415A', 'X320', 'I332A', 'D326B', 'V316A', 'I332', 'D326A', 'D326', 'V316', 'Y370', 'Y375', 'Y379', 'Y411', 'Y415', 'Y419', 'Y423', 'I375C', 'D369', 'O382', 'U370', 'V360C', 'X365B', 'U353B', 'O410', 'O411', 'V360', 'K417', 'W317', 'W317A', 'N317', 'O315', 'O315A', 'U410', 'U410A', 'U410B', 'U410C', 'U410D', 'U410E', 'U410F', 'U410G', 'U410H', 'X365', 'X365A', 'U353', 'U353A', 'V410', 'V410A', 'V410B')\n"
     ]
    }
   ],
   "source": [
    "array = df4['Voyage Code'].unique()\n",
    "\n",
    "\n",
    "array = \"('\" + \"', '\".join(array)\n",
    "\n",
    "\n",
    "array = array + \"')\"\n",
    "\n",
    "\n",
    "Voyage_string = array\n",
    "\n",
    "print(Voyage_string)\n"
   ]
  },
  {
   "cell_type": "code",
   "execution_count": null,
   "id": "805f08f8",
   "metadata": {},
   "outputs": [],
   "source": []
  }
 ],
 "metadata": {
  "kernelspec": {
   "display_name": "Python 3 (ipykernel)",
   "language": "python",
   "name": "python3"
  },
  "language_info": {
   "codemirror_mode": {
    "name": "ipython",
    "version": 3
   },
   "file_extension": ".py",
   "mimetype": "text/x-python",
   "name": "python",
   "nbconvert_exporter": "python",
   "pygments_lexer": "ipython3",
   "version": "3.9.13"
  }
 },
 "nbformat": 4,
 "nbformat_minor": 5
}
