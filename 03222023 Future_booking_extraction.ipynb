{
 "cells": [
  {
   "cell_type": "code",
   "execution_count": 1,
   "id": "6ab51d40",
   "metadata": {},
   "outputs": [
    {
     "name": "stdout",
     "output_type": "stream",
     "text": [
      "Z:\\CVS Files_WebEmailOnline\\Email\\CSVs\\Week 16\n"
     ]
    }
   ],
   "source": [
    "%cd Z:\\CVS Files_WebEmailOnline\\Email\\CSVs\\Week 16\\\n",
    "## Change working directory per week "
   ]
  },
  {
   "cell_type": "code",
   "execution_count": 2,
   "id": "f705f405",
   "metadata": {},
   "outputs": [
    {
     "name": "stdout",
     "output_type": "stream",
     "text": [
      "['HEP2316MP3\\\\cmpgn_EHEP2316MP3.csv', 'HEP2316MP3\\\\cmpgn_NHEP2316MP3.csv']\n",
      "['HEP2316MP3\\\\multi_HEP2316MP3_1.csv', 'HEP2316MP3\\\\multi_HEP2316MP3_2.csv']\n"
     ]
    }
   ],
   "source": [
    "import glob\n",
    "import pandas as pd\n",
    "filenames = glob.glob(\"HEP2316MP3/cmpgn_*.csv\")         ##Update Campaign Name \n",
    "print(filenames)\n",
    "\n",
    "filenames2 = glob.glob(\"HEP2316MP3/multi_*.csv\")        ##Update Campaign Name \n",
    "print(filenames2)"
   ]
  },
  {
   "cell_type": "code",
   "execution_count": 3,
   "id": "6ef68082",
   "metadata": {},
   "outputs": [],
   "source": [
    "dataframes = [pd.read_csv(f) for f in filenames]\n",
    "\n",
    "dataframes2 = [pd.read_csv(f) for f in filenames2]\n"
   ]
  },
  {
   "cell_type": "code",
   "execution_count": 4,
   "id": "c66cffe8",
   "metadata": {},
   "outputs": [
    {
     "name": "stdout",
     "output_type": "stream",
     "text": [
      "                                          Voyage Code Tour Id  \\\n",
      "0                                                Y330     NaN   \n",
      "1                                                O333     NaN   \n",
      "2                                                Y325     NaN   \n",
      "3                                                J338     NaN   \n",
      "4                                                Y329     NaN   \n",
      "..                                                ...     ...   \n",
      "75  N328, I340, N332, I342, N337, I347, N339, I352...  T3AR1L   \n",
      "76  N328, I340, N332, I342, N337, I347, N339, I352...  T3AR6L   \n",
      "77  N327, I336, N331, I341, N333, I346, N338, I348...  T3AR8C   \n",
      "78  N327, I336, N331, I341, N333, I346, N338, I348...  T3AR6C   \n",
      "79  N327, I336, N331, I341, N333, I346, N338, I348...  T3AR1C   \n",
      "\n",
      "   Destination Code Currency  country  Lead Fare  Promo Note  Footnote  \\\n",
      "0                 E      USD      NaN        NaN         NaN       NaN   \n",
      "1                 E      USD      NaN        NaN         NaN       NaN   \n",
      "2                 E      USD      NaN        NaN         NaN       NaN   \n",
      "3                 E      USD      NaN        NaN         NaN       NaN   \n",
      "4                 E      USD      NaN        NaN         NaN       NaN   \n",
      "..              ...      ...      ...        ...         ...       ...   \n",
      "75               AT      CAD      NaN        NaN         NaN       NaN   \n",
      "76               AT      CAD      NaN        NaN         NaN       NaN   \n",
      "77               AT      CAD      NaN        NaN         NaN       NaN   \n",
      "78               AT      CAD      NaN        NaN         NaN       NaN   \n",
      "79               AT      CAD      NaN        NaN         NaN       NaN   \n",
      "\n",
      "    Terms and Conditions    Campaign  ...  Vista Suite TF&PE  \\\n",
      "0                    NaN  HEP2316MP3  ...                NaN   \n",
      "1                    NaN  HEP2316MP3  ...                NaN   \n",
      "2                    NaN  HEP2316MP3  ...                NaN   \n",
      "3                    NaN  HEP2316MP3  ...                NaN   \n",
      "4                    NaN  HEP2316MP3  ...                NaN   \n",
      "..                   ...         ...  ...                ...   \n",
      "75                   NaN  HEP2316MP3  ...                NaN   \n",
      "76                   NaN  HEP2316MP3  ...                NaN   \n",
      "77                   NaN  HEP2316MP3  ...                NaN   \n",
      "78                   NaN  HEP2316MP3  ...                NaN   \n",
      "79                   NaN  HEP2316MP3  ...                NaN   \n",
      "\n",
      "    Signature Suite From  Signature Suite Category  Signature Suite TF&PE  \\\n",
      "0                    NaN                       NaN                    NaN   \n",
      "1                    NaN                       NaN                    NaN   \n",
      "2                    NaN                       NaN                    NaN   \n",
      "3                    NaN                       NaN                    NaN   \n",
      "4                    NaN                       NaN                    NaN   \n",
      "..                   ...                       ...                    ...   \n",
      "75                   NaN                       NaN                    NaN   \n",
      "76                   NaN                       NaN                    NaN   \n",
      "77                   NaN                       NaN                    NaN   \n",
      "78                   NaN                       NaN                    NaN   \n",
      "79                   NaN                       NaN                    NaN   \n",
      "\n",
      "    Neptune Suite From  Neptune Suite Category  Neptune Suite TF&PE  \\\n",
      "0                  NaN                     NaN                  NaN   \n",
      "1                  NaN                     NaN                  NaN   \n",
      "2                  NaN                     NaN                  NaN   \n",
      "3                  NaN                     NaN                  NaN   \n",
      "4                  NaN                     NaN                  NaN   \n",
      "..                 ...                     ...                  ...   \n",
      "75                 NaN                     NaN                  NaN   \n",
      "76                 NaN                     NaN                  NaN   \n",
      "77                 NaN                     NaN                  NaN   \n",
      "78                 NaN                     NaN                  NaN   \n",
      "79                 NaN                     NaN                  NaN   \n",
      "\n",
      "    Family From  Family Category  Family TF&PE  \n",
      "0           NaN              NaN           NaN  \n",
      "1           NaN              NaN           NaN  \n",
      "2           NaN              NaN           NaN  \n",
      "3           NaN              NaN           NaN  \n",
      "4           NaN              NaN           NaN  \n",
      "..          ...              ...           ...  \n",
      "75          NaN              NaN           NaN  \n",
      "76          NaN              NaN           NaN  \n",
      "77          NaN              NaN           NaN  \n",
      "78          NaN              NaN           NaN  \n",
      "79          NaN              NaN           NaN  \n",
      "\n",
      "[224 rows x 34 columns]\n"
     ]
    }
   ],
   "source": [
    "df2 = pd.concat(dataframes)\n",
    "\n",
    "df3 = pd.concat(dataframes2)\n",
    "\n",
    "df4 = pd.concat([df2,df3])\n",
    "\n",
    "print(df4)"
   ]
  },
  {
   "cell_type": "code",
   "execution_count": 5,
   "id": "4337c957",
   "metadata": {},
   "outputs": [],
   "source": [
    "df4 = pd.DataFrame(df4)\n",
    "\n",
    "\n",
    "df4 = df4['Voyage Code']\n",
    "\n",
    "\n",
    "df4 = pd.DataFrame(df4)\n",
    "\n"
   ]
  },
  {
   "cell_type": "code",
   "execution_count": 6,
   "id": "7488dcfa",
   "metadata": {},
   "outputs": [
    {
     "name": "stdout",
     "output_type": "stream",
     "text": [
      "    Voyage Code\n",
      "351        D329\n",
      "225        D329\n",
      "352        D330\n",
      "226        D330\n",
      "353        D331\n",
      "..          ...\n",
      "9          Y363\n",
      "36        Y363A\n",
      "12         Y364\n",
      "114       Y364A\n",
      "92         Y367\n",
      "\n",
      "[2060 rows x 1 columns]\n"
     ]
    }
   ],
   "source": [
    "df4[\"Voyage Code\"]=df4[\"Voyage Code\"].str.split(\", \")\n",
    "df4=df4.explode(\"Voyage Code\").reset_index(drop=True)\n",
    "\n",
    "df4 = df4.sort_values('Voyage Code')\n",
    "print(df4)"
   ]
  },
  {
   "cell_type": "code",
   "execution_count": 7,
   "id": "eeb77033",
   "metadata": {},
   "outputs": [
    {
     "name": "stdout",
     "output_type": "stream",
     "text": [
      "['D329' 'D330' 'D331' 'D332' 'D336' 'D337' 'D338' 'D339' 'D343' 'D344'\n",
      " 'D345' 'D346' 'D350' 'D351' 'D352' 'D353' 'D357' 'D358' 'D359' 'D360'\n",
      " 'D364' 'D365' 'D366 ' 'I334' 'I335' 'I336' 'I340' 'I341' 'I342' 'I346'\n",
      " 'I347' 'I348' 'I352' 'I353' 'I354' 'I358' 'I359' 'I360' 'I364' 'I365'\n",
      " 'I366' 'I370' 'I371' 'I372' 'J330A' 'J333' 'J333A' 'J337' 'J337A' 'J338'\n",
      " 'J338A' 'J341' 'J341A' 'J342' 'J342A' 'J345' 'J345A' 'J346' 'J346A'\n",
      " 'J349' 'J349A' 'J350' 'J350A' 'J353' 'J353A' 'J354' 'J354A' 'J357'\n",
      " 'J357A' 'J358' 'J358A' 'J361' 'J361A' 'J362' 'J362A' 'J365' 'J365A'\n",
      " 'J366' 'J366A' 'J369' 'J369A' 'J370' 'J373' 'K333' 'K334' 'K335' 'K339'\n",
      " 'K339A' 'K339B' 'K340' 'K340A' 'K340B' 'K341' 'K341A' 'K341B' 'K342'\n",
      " 'K342A' 'K342B' 'K346' 'K346A' 'K346B' 'K347' 'K347A' 'K347B' 'K348'\n",
      " 'K348A' 'K348B' 'K349' 'K349A' 'K349B' 'K353' 'K353A' 'K353B' 'K354'\n",
      " 'K354A' 'K354B' 'K355' 'K355A' 'K355B' 'K356' 'K356A' 'K356B' 'K360'\n",
      " 'K360A' 'K360B' 'K361' 'K361A' 'K361B' 'K362' 'K362A' 'K362B' 'K363'\n",
      " 'K367' 'K368' 'K369' 'N326' 'N327' 'N328' 'N331' 'N332' 'N333' 'N337'\n",
      " 'N338' 'N339' 'N343' 'N344' 'N345' 'N349' 'N350' 'N351' 'N355' 'N356'\n",
      " 'N357' 'N361' 'N362' 'O329' 'O329A' 'O333' 'O341' 'O341A' 'O342' 'O342A'\n",
      " 'O345' 'O345A' 'O346' 'O346A' 'O349' 'O349A' 'O350' 'O350A' 'O353'\n",
      " 'O353A' 'O354' 'O354A' 'O357' 'O357A' 'O358' 'O358A' 'O361' 'O361A'\n",
      " 'O362' 'O362A' 'O365' 'O365A' 'O366' 'O370' 'O370A' 'O373' 'U325' 'U325A'\n",
      " 'U328' 'U328A' 'U330' 'U330A' 'U332' 'U334' 'U334A' 'U334B' 'U337' 'U338'\n",
      " 'U341' 'U342' 'U345' 'U347' 'V322' 'V323' 'V324' 'V324A' 'V324B' 'V328'\n",
      " 'V328A' 'V328B' 'V329' 'V329A' 'V329B' 'V330' 'V330A' 'V330B' 'V331'\n",
      " 'V331A' 'V331B' 'V335' 'V335A' 'V335B' 'V336' 'V336A' 'V336B' 'V337'\n",
      " 'V337A' 'V337B' 'V338' 'V338A' 'V338B' 'V342' 'V342A' 'V342B' 'V343'\n",
      " 'V343A' 'V343B' 'V344' 'V344A' 'V344B' 'V345' 'V345A' 'V345B' 'V349'\n",
      " 'V349A' 'V349B' 'V350' 'V350A' 'V350B' 'V351' 'V352' 'V356' 'W326' 'W327'\n",
      " 'W328' 'W333' 'W334' 'W335' 'W339' 'W340' 'W341' 'W342' 'W346' 'W347'\n",
      " 'W348' 'W349' 'W353' 'W354' 'W355' 'W356' 'W360' 'W361' 'X325' 'X326'\n",
      " 'X327O' 'X328O' 'X329' 'X330' 'X333' 'X334' 'X337' 'X338' 'X341' 'X342'\n",
      " 'X345' 'X346' 'X352' 'X353' 'X356' 'X360' 'Y324A' 'Y325' 'Y325A' 'Y325B'\n",
      " 'Y325C' 'Y329' 'Y329A' 'Y330' 'Y330A' 'Y332' 'Y332A' 'Y335' 'Y335A'\n",
      " 'Y336' 'Y336A' 'Y339' 'Y339A' 'Y340' 'Y340A' 'Y343' 'Y343A' 'Y344'\n",
      " 'Y344A' 'Y347' 'Y347A' 'Y348' 'Y348A' 'Y351' 'Y351A' 'Y352' 'Y352A'\n",
      " 'Y355' 'Y355A' 'Y356' 'Y356A' 'Y359' 'Y359A' 'Y360' 'Y360A' 'Y363'\n",
      " 'Y363A' 'Y364' 'Y364A' 'Y367']\n",
      "('D329', 'D330', 'D331', 'D332', 'D336', 'D337', 'D338', 'D339', 'D343', 'D344', 'D345', 'D346', 'D350', 'D351', 'D352', 'D353', 'D357', 'D358', 'D359', 'D360', 'D364', 'D365', 'D366 ', 'I334', 'I335', 'I336', 'I340', 'I341', 'I342', 'I346', 'I347', 'I348', 'I352', 'I353', 'I354', 'I358', 'I359', 'I360', 'I364', 'I365', 'I366', 'I370', 'I371', 'I372', 'J330A', 'J333', 'J333A', 'J337', 'J337A', 'J338', 'J338A', 'J341', 'J341A', 'J342', 'J342A', 'J345', 'J345A', 'J346', 'J346A', 'J349', 'J349A', 'J350', 'J350A', 'J353', 'J353A', 'J354', 'J354A', 'J357', 'J357A', 'J358', 'J358A', 'J361', 'J361A', 'J362', 'J362A', 'J365', 'J365A', 'J366', 'J366A', 'J369', 'J369A', 'J370', 'J373', 'K333', 'K334', 'K335', 'K339', 'K339A', 'K339B', 'K340', 'K340A', 'K340B', 'K341', 'K341A', 'K341B', 'K342', 'K342A', 'K342B', 'K346', 'K346A', 'K346B', 'K347', 'K347A', 'K347B', 'K348', 'K348A', 'K348B', 'K349', 'K349A', 'K349B', 'K353', 'K353A', 'K353B', 'K354', 'K354A', 'K354B', 'K355', 'K355A', 'K355B', 'K356', 'K356A', 'K356B', 'K360', 'K360A', 'K360B', 'K361', 'K361A', 'K361B', 'K362', 'K362A', 'K362B', 'K363', 'K367', 'K368', 'K369', 'N326', 'N327', 'N328', 'N331', 'N332', 'N333', 'N337', 'N338', 'N339', 'N343', 'N344', 'N345', 'N349', 'N350', 'N351', 'N355', 'N356', 'N357', 'N361', 'N362', 'O329', 'O329A', 'O333', 'O341', 'O341A', 'O342', 'O342A', 'O345', 'O345A', 'O346', 'O346A', 'O349', 'O349A', 'O350', 'O350A', 'O353', 'O353A', 'O354', 'O354A', 'O357', 'O357A', 'O358', 'O358A', 'O361', 'O361A', 'O362', 'O362A', 'O365', 'O365A', 'O366', 'O370', 'O370A', 'O373', 'U325', 'U325A', 'U328', 'U328A', 'U330', 'U330A', 'U332', 'U334', 'U334A', 'U334B', 'U337', 'U338', 'U341', 'U342', 'U345', 'U347', 'V322', 'V323', 'V324', 'V324A', 'V324B', 'V328', 'V328A', 'V328B', 'V329', 'V329A', 'V329B', 'V330', 'V330A', 'V330B', 'V331', 'V331A', 'V331B', 'V335', 'V335A', 'V335B', 'V336', 'V336A', 'V336B', 'V337', 'V337A', 'V337B', 'V338', 'V338A', 'V338B', 'V342', 'V342A', 'V342B', 'V343', 'V343A', 'V343B', 'V344', 'V344A', 'V344B', 'V345', 'V345A', 'V345B', 'V349', 'V349A', 'V349B', 'V350', 'V350A', 'V350B', 'V351', 'V352', 'V356', 'W326', 'W327', 'W328', 'W333', 'W334', 'W335', 'W339', 'W340', 'W341', 'W342', 'W346', 'W347', 'W348', 'W349', 'W353', 'W354', 'W355', 'W356', 'W360', 'W361', 'X325', 'X326', 'X327O', 'X328O', 'X329', 'X330', 'X333', 'X334', 'X337', 'X338', 'X341', 'X342', 'X345', 'X346', 'X352', 'X353', 'X356', 'X360', 'Y324A', 'Y325', 'Y325A', 'Y325B', 'Y325C', 'Y329', 'Y329A', 'Y330', 'Y330A', 'Y332', 'Y332A', 'Y335', 'Y335A', 'Y336', 'Y336A', 'Y339', 'Y339A', 'Y340', 'Y340A', 'Y343', 'Y343A', 'Y344', 'Y344A', 'Y347', 'Y347A', 'Y348', 'Y348A', 'Y351', 'Y351A', 'Y352', 'Y352A', 'Y355', 'Y355A', 'Y356', 'Y356A', 'Y359', 'Y359A', 'Y360', 'Y360A', 'Y363', 'Y363A', 'Y364', 'Y364A', 'Y367')\n"
     ]
    }
   ],
   "source": [
    "array = df4['Voyage Code'].unique()\n",
    "\n",
    "array = \"('\" + \"', '\".join(array)\n",
    "\n",
    "\n",
    "array = array + \"')\"\n",
    "\n",
    "\n",
    "Voyage_string = array\n",
    "\n",
    "print(Voyage_string)"
   ]
  },
  {
   "cell_type": "code",
   "execution_count": 8,
   "id": "700370f5",
   "metadata": {},
   "outputs": [],
   "source": [
    "print(Voyage_string,  file=open('HEP2316MP3.txt', 'w'))    ##Update Voyage Name"
   ]
  },
  {
   "cell_type": "code",
   "execution_count": null,
   "id": "dbd09711",
   "metadata": {},
   "outputs": [],
   "source": []
  }
 ],
 "metadata": {
  "kernelspec": {
   "display_name": "Python 3 (ipykernel)",
   "language": "python",
   "name": "python3"
  },
  "language_info": {
   "codemirror_mode": {
    "name": "ipython",
    "version": 3
   },
   "file_extension": ".py",
   "mimetype": "text/x-python",
   "name": "python",
   "nbconvert_exporter": "python",
   "pygments_lexer": "ipython3",
   "version": "3.9.13"
  }
 },
 "nbformat": 4,
 "nbformat_minor": 5
}
